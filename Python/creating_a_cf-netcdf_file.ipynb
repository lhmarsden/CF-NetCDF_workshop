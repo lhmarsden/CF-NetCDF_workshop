{
 "cells": [
  {
   "cell_type": "markdown",
   "id": "13c6ffe0",
   "metadata": {},
   "source": [
    "# Import modules"
   ]
  },
  {
   "cell_type": "markdown",
   "id": "87f21a5b",
   "metadata": {},
   "source": [
    "Firstly, let's import the modules that we will work with"
   ]
  },
  {
   "cell_type": "code",
   "execution_count": 1,
   "id": "c6364167",
   "metadata": {},
   "outputs": [],
   "source": [
    "import xarray as xr # For creating a NetCDF file\n",
    "from datetime import datetime as dt # Handline dates and times\n",
    "import uuid # Creating a universally unique identifier (UUID) for your file\n",
    "import pandas as pd # Importing tabular data from a file (e.g. XLSX, CSV)\n",
    "import numpy as np # Working with arrays of data and mathematical functions"
   ]
  },
  {
   "cell_type": "markdown",
   "id": "9d473693",
   "metadata": {},
   "source": [
    "# Importing your data"
   ]
  },
  {
   "cell_type": "markdown",
   "id": "3ec20588",
   "metadata": {},
   "source": [
    "### From CSV/Excel to a dataframe"
   ]
  },
  {
   "cell_type": "code",
   "execution_count": 2,
   "id": "41e81b21",
   "metadata": {},
   "outputs": [],
   "source": [
    "# df = pd.read_csv('/path/to/your/file.csv') # CSV files\n",
    "# df = pd.read_excel('/path/to/your/file.xlsx', sheet_name='Sheet1') # Excel file"
   ]
  },
  {
   "cell_type": "markdown",
   "id": "39db9946",
   "metadata": {},
   "source": [
    "# Initialising your xarray dataset object\n",
    "\n",
    "The first step is to create an empty xarray dataset object. "
   ]
  },
  {
   "cell_type": "code",
   "execution_count": 3,
   "id": "48890b93",
   "metadata": {},
   "outputs": [
    {
     "name": "stdout",
     "output_type": "stream",
     "text": [
      "<xarray.Dataset>\n",
      "Dimensions:  ()\n",
      "Data variables:\n",
      "    *empty*\n"
     ]
    }
   ],
   "source": [
    "xrds = xr.Dataset()\n",
    "print(xrds)"
   ]
  },
  {
   "cell_type": "markdown",
   "id": "a9f6ee22",
   "metadata": {},
   "source": [
    "Right away we can see the object has a defined structure with dimensions and variables. A key feature of a NetCDF file is that there is a defined structure so your data and metadata will always be in the same place within the file. This makes it easier for a machine to read it. We will add more types of data and metadata to this object as we go."
   ]
  },
  {
   "cell_type": "markdown",
   "id": "ecea0ec4",
   "metadata": {},
   "source": [
    "# Dimensions and coordinate variables"
   ]
  },
  {
   "cell_type": "markdown",
   "id": "32e4000d",
   "metadata": {},
   "source": [
    "Dimensions define the shape of your data. Variables (your data) can be assigned one or more dimensions. A dimension in most cases is a spatial or temporal dimension (e.g. time, depth, latitude, longitude) but could also be something else (e.g. iteration, number of vertices for data representative of cells).\n",
    "\n",
    "Dimensions tell you how many points you have for each coordinate. Coordinate variables tell you what the values for those points are.\n",
    "\n",
    "Let's imagine a few simple scenarios. I'll initialise new xarray dataset objects each time."
   ]
  },
  {
   "cell_type": "markdown",
   "id": "e19dcc8f",
   "metadata": {},
   "source": [
    "### Our data is a time series with 10 points in time."
   ]
  },
  {
   "cell_type": "code",
   "execution_count": 4,
   "id": "b05c78fc",
   "metadata": {},
   "outputs": [
    {
     "name": "stdout",
     "output_type": "stream",
     "text": [
      "<xarray.Dataset>\n",
      "Dimensions:  (time: 10)\n",
      "Coordinates:\n",
      "  * time     (time) int64 0 1 2 3 4 5 6 7 8 9\n",
      "Data variables:\n",
      "    *empty*\n"
     ]
    }
   ],
   "source": [
    "time = [0,1,2,3,4,5,6,7,8,9]\n",
    "\n",
    "xrds = xr.Dataset(\n",
    "    coords = {\n",
    "        'time': time\n",
    "    }\n",
    ")\n",
    "\n",
    "print(xrds)"
   ]
  },
  {
   "cell_type": "markdown",
   "id": "38afee05",
   "metadata": {},
   "source": [
    "The object has a dimension of length 10 and a coordinate variable (time) which has a dimension of time. The values are all integers. Some more examples. "
   ]
  },
  {
   "cell_type": "markdown",
   "id": "6adc909c",
   "metadata": {},
   "source": [
    "### Your times are timestamps\n",
    "\n",
    "There are specific recommendations on how time should be stored in NetCDF-CF files. I will try to explain briefly here, and there is a nice explanation here too: https://www.unidata.ucar.edu/software/netcdf/time/recs.html\n",
    "\n",
    "It is most common to have a dimension named \"time\" as well as a coordinate variable with the same name. Let's discuss the variable first.\n",
    "\n",
    "The \"time\" variable has units that count from a user defined origin, for example \"hours since 2020-01-01 00:00 UTC\" or \"days since 2014-01-01\". The units may be in years, days, seconds, nanoseconds, etc. Whilst this approach may seem strange at a glance, it allows the times to be stored in conventional numerical formats such as integers or floats, and to our desired precision. This is much more efficient than using a long timestamp string for each coordinate.\n",
    "\n",
    "Some softwares know how to interpret this and will convert the data into timestamps in when you extract the data from a CF-NetCDF file."
   ]
  },
  {
   "cell_type": "code",
   "execution_count": 5,
   "id": "eb16f3f7",
   "metadata": {},
   "outputs": [
    {
     "name": "stdout",
     "output_type": "stream",
     "text": [
      "['2022-01-01T00:00:00' '2022-01-01T01:00:00' '2022-01-01T02:00:00'\n",
      " '2022-01-01T03:00:00' '2022-01-01T04:00:00' '2022-01-01T05:00:00'\n",
      " '2022-01-01T06:00:00' '2022-01-01T07:00:00' '2022-01-01T08:00:00'\n",
      " '2022-01-01T09:00:00' '2022-01-01T10:00:00' '2022-01-01T11:00:00'\n",
      " '2022-01-01T12:00:00' '2022-01-01T13:00:00' '2022-01-01T14:00:00'\n",
      " '2022-01-01T15:00:00' '2022-01-01T16:00:00' '2022-01-01T17:00:00'\n",
      " '2022-01-01T18:00:00' '2022-01-01T19:00:00' '2022-01-01T20:00:00'\n",
      " '2022-01-01T21:00:00' '2022-01-01T22:00:00' '2022-01-01T23:00:00']\n"
     ]
    }
   ],
   "source": [
    "# Creating an array of timestamps\n",
    "start = np.datetime64('2022-01-01T00:00:00')\n",
    "end = start + np.timedelta64(24, 'h')\n",
    "timestamps = np.arange(start, end, np.timedelta64(1, 'h'))\n",
    "\n",
    "print(timestamps)"
   ]
  },
  {
   "cell_type": "code",
   "execution_count": 6,
   "id": "8fcf87b9",
   "metadata": {},
   "outputs": [
    {
     "name": "stdout",
     "output_type": "stream",
     "text": [
      "[    0  3600  7200 10800 14400 18000 21600 25200 28800 32400 36000 39600\n",
      " 43200 46800 50400 54000 57600 61200 64800 68400 72000 75600 79200 82800]\n",
      "[ 0  1  2  3  4  5  6  7  8  9 10 11 12 13 14 15 16 17 18 19 20 21 22 23]\n"
     ]
    }
   ],
   "source": [
    "# In CF-NetCDF, time is stored in e.g. seconds since 2022-01-01T00:00:00Z, hours since 2022-01-01T00:00:00Z\n",
    "seconds_since_start = (timestamps - start).astype('int')\n",
    "hours_since_start = (timestamps - start).astype('timedelta64[h]').astype('int')\n",
    "\n",
    "print(seconds_since_start)\n",
    "print(hours_since_start)"
   ]
  },
  {
   "cell_type": "code",
   "execution_count": 7,
   "id": "554ba044",
   "metadata": {},
   "outputs": [
    {
     "name": "stdout",
     "output_type": "stream",
     "text": [
      "<xarray.Dataset>\n",
      "Dimensions:  (time: 24)\n",
      "Coordinates:\n",
      "  * time     (time) int64 0 3600 7200 10800 14400 ... 72000 75600 79200 82800\n",
      "Data variables:\n",
      "    *empty*\n"
     ]
    }
   ],
   "source": [
    "# Add them to an xarray object\n",
    "\n",
    "xrds = xr.Dataset(\n",
    "    coords = {\n",
    "        'time': seconds_since_start\n",
    "        }\n",
    "    )\n",
    "\n",
    "print(xrds)"
   ]
  },
  {
   "cell_type": "markdown",
   "id": "5bd4b39d",
   "metadata": {},
   "source": [
    "### We have multiple dimensions"
   ]
  },
  {
   "cell_type": "code",
   "execution_count": 8,
   "id": "98930259",
   "metadata": {},
   "outputs": [
    {
     "name": "stdout",
     "output_type": "stream",
     "text": [
      "<xarray.Dataset>\n",
      "Dimensions:    (depth: 5, latitude: 3, longitude: 2)\n",
      "Coordinates:\n",
      "  * depth      (depth) int64 0 10 20 50 100\n",
      "  * latitude   (latitude) float64 78.54 79.14 80.71\n",
      "  * longitude  (longitude) float64 30.01 28.73\n",
      "Data variables:\n",
      "    *empty*\n"
     ]
    }
   ],
   "source": [
    "depth = [0,10,20,50,100]\n",
    "latitude = [78.5425, 79.1423, 80.7139]\n",
    "longitude = [30.0131,28.7269]\n",
    "\n",
    "xrds = xr.Dataset(\n",
    "    coords = {\n",
    "        'depth': depth,\n",
    "        'latitude': latitude,\n",
    "        'longitude': longitude\n",
    "    }\n",
    ")\n",
    "\n",
    "print(xrds)"
   ]
  },
  {
   "cell_type": "markdown",
   "id": "34641396",
   "metadata": {},
   "source": [
    "# Data Variables\n",
    "\n",
    "Now let's add some data variables. Starting from the xarray dataset object created directly above that has multiple dimensions.\n",
    "\n",
    "You can choose what name you assign for each variable. This is not standardised, but be sensible and clear. I will show you how to make your data variables conform to the CF conventions using variable attributes in the next section"
   ]
  },
  {
   "cell_type": "markdown",
   "id": "b7f51e02",
   "metadata": {},
   "source": [
    "### 1D array, e.g. a depth profile"
   ]
  },
  {
   "cell_type": "code",
   "execution_count": 9,
   "id": "0f645cb6",
   "metadata": {},
   "outputs": [
    {
     "name": "stdout",
     "output_type": "stream",
     "text": [
      "<xarray.Dataset>\n",
      "Dimensions:        (depth: 5, latitude: 3, longitude: 2)\n",
      "Coordinates:\n",
      "  * depth          (depth) int64 0 10 20 50 100\n",
      "  * latitude       (latitude) float64 78.54 79.14 80.71\n",
      "  * longitude      (longitude) float64 30.01 28.73\n",
      "Data variables:\n",
      "    chlorophyll_a  (depth) float64 21.5 18.5 17.6 16.8 15.2\n"
     ]
    },
    {
     "data": {
      "text/plain": [
       "[<matplotlib.lines.Line2D at 0x7fc2f3485b10>]"
      ]
     },
     "execution_count": 9,
     "metadata": {},
     "output_type": "execute_result"
    },
    {
     "data": {
      "image/png": "[encoded data removed]",
      "text/plain": [
       "<Figure size 640x480 with 1 Axes>"
      ]
     },
     "metadata": {},
     "output_type": "display_data"
    }
   ],
   "source": [
    "chlorophyll_a = [21.5, 18.5, 17.6, 16.8, 15.2] # Must be same length as the depth dimension\n",
    "\n",
    "xrds['chlorophyll_a'] = (\"depth\", chlorophyll_a)\n",
    "\n",
    "print(xrds)\n",
    "xrds['chlorophyll_a'].plot()"
   ]
  },
  {
   "cell_type": "markdown",
   "id": "f0295352",
   "metadata": {},
   "source": [
    "### 2D array, e.g. a grid of latitude and longitudes"
   ]
  },
  {
   "cell_type": "code",
   "execution_count": 10,
   "id": "d422e4d3",
   "metadata": {},
   "outputs": [
    {
     "name": "stdout",
     "output_type": "stream",
     "text": [
      "[[5 6]\n",
      " [3 9]\n",
      " [7 7]]\n"
     ]
    }
   ],
   "source": [
    "wind_speed = np.random.randint(0, 10, size=(3, 2))    # Creating a 2D array\n",
    "print(wind_speed)"
   ]
  },
  {
   "cell_type": "code",
   "execution_count": 11,
   "id": "fa63b113",
   "metadata": {},
   "outputs": [
    {
     "name": "stdout",
     "output_type": "stream",
     "text": [
      "<xarray.Dataset>\n",
      "Dimensions:        (depth: 5, latitude: 3, longitude: 2)\n",
      "Coordinates:\n",
      "  * depth          (depth) int64 0 10 20 50 100\n",
      "  * latitude       (latitude) float64 78.54 79.14 80.71\n",
      "  * longitude      (longitude) float64 30.01 28.73\n",
      "Data variables:\n",
      "    chlorophyll_a  (depth) float64 21.5 18.5 17.6 16.8 15.2\n",
      "    wind_speed     (latitude, longitude) int64 5 6 3 9 7 7\n"
     ]
    }
   ],
   "source": [
    "xrds['wind_speed'] = ([\"latitude\", \"longitude\"], wind_speed)\n",
    "print(xrds)"
   ]
  },
  {
   "cell_type": "markdown",
   "id": "1c8a7182",
   "metadata": {},
   "source": [
    "Now you can see that the wind_speed variable has two dimensions; latitude and longitude. It appears as a 1D array above, but it we retrieve it we see that it isn't."
   ]
  },
  {
   "cell_type": "code",
   "execution_count": 12,
   "id": "e274e2f1",
   "metadata": {},
   "outputs": [
    {
     "data": {
      "text/html": [
       "<div><svg style=\"position: absolute; width: 0; height: 0; overflow: hidden\">\n",
       "<defs>\n",
       "<symbol id=\"icon-database\" viewBox=\"0 0 32 32\">\n",
       "<path d=\"M16 0c-8.837 0-16 2.239-16 5v4c0 2.761 7.163 5 16 5s16-2.239 16-5v-4c0-2.761-7.163-5-16-5z\"></path>\n",
       "<path d=\"M16 17c-8.837 0-16-2.239-16-5v6c0 2.761 7.163 5 16 5s16-2.239 16-5v-6c0 2.761-7.163 5-16 5z\"></path>\n",
       "<path d=\"M16 26c-8.837 0-16-2.239-16-5v6c0 2.761 7.163 5 16 5s16-2.239 16-5v-6c0 2.761-7.163 5-16 5z\"></path>\n",
       "</symbol>\n",
       "<symbol id=\"icon-file-text2\" viewBox=\"0 0 32 32\">\n",
       "<path d=\"M28.681 7.159c-0.694-0.947-1.662-2.053-2.724-3.116s-2.169-2.030-3.116-2.724c-1.612-1.182-2.393-1.319-2.841-1.319h-15.5c-1.378 0-2.5 1.121-2.5 2.5v27c0 1.378 1.122 2.5 2.5 2.5h23c1.378 0 2.5-1.122 2.5-2.5v-19.5c0-0.448-0.137-1.23-1.319-2.841zM24.543 5.457c0.959 0.959 1.712 1.825 2.268 2.543h-4.811v-4.811c0.718 0.556 1.584 1.309 2.543 2.268zM28 29.5c0 0.271-0.229 0.5-0.5 0.5h-23c-0.271 0-0.5-0.229-0.5-0.5v-27c0-0.271 0.229-0.5 0.5-0.5 0 0 15.499-0 15.5 0v7c0 0.552 0.448 1 1 1h7v19.5z\"></path>\n",
       "<path d=\"M23 26h-14c-0.552 0-1-0.448-1-1s0.448-1 1-1h14c0.552 0 1 0.448 1 1s-0.448 1-1 1z\"></path>\n",
       "<path d=\"M23 22h-14c-0.552 0-1-0.448-1-1s0.448-1 1-1h14c0.552 0 1 0.448 1 1s-0.448 1-1 1z\"></path>\n",
       "<path d=\"M23 18h-14c-0.552 0-1-0.448-1-1s0.448-1 1-1h14c0.552 0 1 0.448 1 1s-0.448 1-1 1z\"></path>\n",
       "</symbol>\n",
       "</defs>\n",
       "</svg>\n",
       "<style>/* CSS stylesheet for displaying xarray objects in jupyterlab.\n",
       " *\n",
       " */\n",
       "\n",
       ":root {\n",
       "  --xr-font-color0: var(--jp-content-font-color0, rgba(0, 0, 0, 1));\n",
       "  --xr-font-color2: var(--jp-content-font-color2, rgba(0, 0, 0, 0.54));\n",
       "  --xr-font-color3: var(--jp-content-font-color3, rgba(0, 0, 0, 0.38));\n",
       "  --xr-border-color: var(--jp-border-color2, #e0e0e0);\n",
       "  --xr-disabled-color: var(--jp-layout-color3, #bdbdbd);\n",
       "  --xr-background-color: var(--jp-layout-color0, white);\n",
       "  --xr-background-color-row-even: var(--jp-layout-color1, white);\n",
       "  --xr-background-color-row-odd: var(--jp-layout-color2, #eeeeee);\n",
       "}\n",
       "\n",
       "html[theme=dark],\n",
       "body[data-theme=dark],\n",
       "body.vscode-dark {\n",
       "  --xr-font-color0: rgba(255, 255, 255, 1);\n",
       "  --xr-font-color2: rgba(255, 255, 255, 0.54);\n",
       "  --xr-font-color3: rgba(255, 255, 255, 0.38);\n",
       "  --xr-border-color: #1F1F1F;\n",
       "  --xr-disabled-color: #515151;\n",
       "  --xr-background-color: #111111;\n",
       "  --xr-background-color-row-even: #111111;\n",
       "  --xr-background-color-row-odd: #313131;\n",
       "}\n",
       "\n",
       ".xr-wrap {\n",
       "  display: block !important;\n",
       "  min-width: 300px;\n",
       "  max-width: 700px;\n",
       "}\n",
       "\n",
       ".xr-text-repr-fallback {\n",
       "  /* fallback to plain text repr when CSS is not injected (untrusted notebook) */\n",
       "  display: none;\n",
       "}\n",
       "\n",
       ".xr-header {\n",
       "  padding-top: 6px;\n",
       "  padding-bottom: 6px;\n",
       "  margin-bottom: 4px;\n",
       "  border-bottom: solid 1px var(--xr-border-color);\n",
       "}\n",
       "\n",
       ".xr-header > div,\n",
       ".xr-header > ul {\n",
       "  display: inline;\n",
       "  margin-top: 0;\n",
       "  margin-bottom: 0;\n",
       "}\n",
       "\n",
       ".xr-obj-type,\n",
       ".xr-array-name {\n",
       "  margin-left: 2px;\n",
       "  margin-right: 10px;\n",
       "}\n",
       "\n",
       ".xr-obj-type {\n",
       "  color: var(--xr-font-color2);\n",
       "}\n",
       "\n",
       ".xr-sections {\n",
       "  padding-left: 0 !important;\n",
       "  display: grid;\n",
       "  grid-template-columns: 150px auto auto 1fr 20px 20px;\n",
       "}\n",
       "\n",
       ".xr-section-item {\n",
       "  display: contents;\n",
       "}\n",
       "\n",
       ".xr-section-item input {\n",
       "  display: none;\n",
       "}\n",
       "\n",
       ".xr-section-item input + label {\n",
       "  color: var(--xr-disabled-color);\n",
       "}\n",
       "\n",
       ".xr-section-item input:enabled + label {\n",
       "  cursor: pointer;\n",
       "  color: var(--xr-font-color2);\n",
       "}\n",
       "\n",
       ".xr-section-item input:enabled + label:hover {\n",
       "  color: var(--xr-font-color0);\n",
       "}\n",
       "\n",
       ".xr-section-summary {\n",
       "  grid-column: 1;\n",
       "  color: var(--xr-font-color2);\n",
       "  font-weight: 500;\n",
       "}\n",
       "\n",
       ".xr-section-summary > span {\n",
       "  display: inline-block;\n",
       "  padding-left: 0.5em;\n",
       "}\n",
       "\n",
       ".xr-section-summary-in:disabled + label {\n",
       "  color: var(--xr-font-color2);\n",
       "}\n",
       "\n",
       ".xr-section-summary-in + label:before {\n",
       "  display: inline-block;\n",
       "  content: '►';\n",
       "  font-size: 11px;\n",
       "  width: 15px;\n",
       "  text-align: center;\n",
       "}\n",
       "\n",
       ".xr-section-summary-in:disabled + label:before {\n",
       "  color: var(--xr-disabled-color);\n",
       "}\n",
       "\n",
       ".xr-section-summary-in:checked + label:before {\n",
       "  content: '▼';\n",
       "}\n",
       "\n",
       ".xr-section-summary-in:checked + label > span {\n",
       "  display: none;\n",
       "}\n",
       "\n",
       ".xr-section-summary,\n",
       ".xr-section-inline-details {\n",
       "  padding-top: 4px;\n",
       "  padding-bottom: 4px;\n",
       "}\n",
       "\n",
       ".xr-section-inline-details {\n",
       "  grid-column: 2 / -1;\n",
       "}\n",
       "\n",
       ".xr-section-details {\n",
       "  display: none;\n",
       "  grid-column: 1 / -1;\n",
       "  margin-bottom: 5px;\n",
       "}\n",
       "\n",
       ".xr-section-summary-in:checked ~ .xr-section-details {\n",
       "  display: contents;\n",
       "}\n",
       "\n",
       ".xr-array-wrap {\n",
       "  grid-column: 1 / -1;\n",
       "  display: grid;\n",
       "  grid-template-columns: 20px auto;\n",
       "}\n",
       "\n",
       ".xr-array-wrap > label {\n",
       "  grid-column: 1;\n",
       "  vertical-align: top;\n",
       "}\n",
       "\n",
       ".xr-preview {\n",
       "  color: var(--xr-font-color3);\n",
       "}\n",
       "\n",
       ".xr-array-preview,\n",
       ".xr-array-data {\n",
       "  padding: 0 5px !important;\n",
       "  grid-column: 2;\n",
       "}\n",
       "\n",
       ".xr-array-data,\n",
       ".xr-array-in:checked ~ .xr-array-preview {\n",
       "  display: none;\n",
       "}\n",
       "\n",
       ".xr-array-in:checked ~ .xr-array-data,\n",
       ".xr-array-preview {\n",
       "  display: inline-block;\n",
       "}\n",
       "\n",
       ".xr-dim-list {\n",
       "  display: inline-block !important;\n",
       "  list-style: none;\n",
       "  padding: 0 !important;\n",
       "  margin: 0;\n",
       "}\n",
       "\n",
       ".xr-dim-list li {\n",
       "  display: inline-block;\n",
       "  padding: 0;\n",
       "  margin: 0;\n",
       "}\n",
       "\n",
       ".xr-dim-list:before {\n",
       "  content: '(';\n",
       "}\n",
       "\n",
       ".xr-dim-list:after {\n",
       "  content: ')';\n",
       "}\n",
       "\n",
       ".xr-dim-list li:not(:last-child):after {\n",
       "  content: ',';\n",
       "  padding-right: 5px;\n",
       "}\n",
       "\n",
       ".xr-has-index {\n",
       "  font-weight: bold;\n",
       "}\n",
       "\n",
       ".xr-var-list,\n",
       ".xr-var-item {\n",
       "  display: contents;\n",
       "}\n",
       "\n",
       ".xr-var-item > div,\n",
       ".xr-var-item label,\n",
       ".xr-var-item > .xr-var-name span {\n",
       "  background-color: var(--xr-background-color-row-even);\n",
       "  margin-bottom: 0;\n",
       "}\n",
       "\n",
       ".xr-var-item > .xr-var-name:hover span {\n",
       "  padding-right: 5px;\n",
       "}\n",
       "\n",
       ".xr-var-list > li:nth-child(odd) > div,\n",
       ".xr-var-list > li:nth-child(odd) > label,\n",
       ".xr-var-list > li:nth-child(odd) > .xr-var-name span {\n",
       "  background-color: var(--xr-background-color-row-odd);\n",
       "}\n",
       "\n",
       ".xr-var-name {\n",
       "  grid-column: 1;\n",
       "}\n",
       "\n",
       ".xr-var-dims {\n",
       "  grid-column: 2;\n",
       "}\n",
       "\n",
       ".xr-var-dtype {\n",
       "  grid-column: 3;\n",
       "  text-align: right;\n",
       "  color: var(--xr-font-color2);\n",
       "}\n",
       "\n",
       ".xr-var-preview {\n",
       "  grid-column: 4;\n",
       "}\n",
       "\n",
       ".xr-index-preview {\n",
       "  grid-column: 2 / 5;\n",
       "  color: var(--xr-font-color2);\n",
       "}\n",
       "\n",
       ".xr-var-name,\n",
       ".xr-var-dims,\n",
       ".xr-var-dtype,\n",
       ".xr-preview,\n",
       ".xr-attrs dt {\n",
       "  white-space: nowrap;\n",
       "  overflow: hidden;\n",
       "  text-overflow: ellipsis;\n",
       "  padding-right: 10px;\n",
       "}\n",
       "\n",
       ".xr-var-name:hover,\n",
       ".xr-var-dims:hover,\n",
       ".xr-var-dtype:hover,\n",
       ".xr-attrs dt:hover {\n",
       "  overflow: visible;\n",
       "  width: auto;\n",
       "  z-index: 1;\n",
       "}\n",
       "\n",
       ".xr-var-attrs,\n",
       ".xr-var-data,\n",
       ".xr-index-data {\n",
       "  display: none;\n",
       "  background-color: var(--xr-background-color) !important;\n",
       "  padding-bottom: 5px !important;\n",
       "}\n",
       "\n",
       ".xr-var-attrs-in:checked ~ .xr-var-attrs,\n",
       ".xr-var-data-in:checked ~ .xr-var-data,\n",
       ".xr-index-data-in:checked ~ .xr-index-data {\n",
       "  display: block;\n",
       "}\n",
       "\n",
       ".xr-var-data > table {\n",
       "  float: right;\n",
       "}\n",
       "\n",
       ".xr-var-name span,\n",
       ".xr-var-data,\n",
       ".xr-index-name div,\n",
       ".xr-index-data,\n",
       ".xr-attrs {\n",
       "  padding-left: 25px !important;\n",
       "}\n",
       "\n",
       ".xr-attrs,\n",
       ".xr-var-attrs,\n",
       ".xr-var-data,\n",
       ".xr-index-data {\n",
       "  grid-column: 1 / -1;\n",
       "}\n",
       "\n",
       "dl.xr-attrs {\n",
       "  padding: 0;\n",
       "  margin: 0;\n",
       "  display: grid;\n",
       "  grid-template-columns: 125px auto;\n",
       "}\n",
       "\n",
       ".xr-attrs dt,\n",
       ".xr-attrs dd {\n",
       "  padding: 0;\n",
       "  margin: 0;\n",
       "  float: left;\n",
       "  padding-right: 10px;\n",
       "  width: auto;\n",
       "}\n",
       "\n",
       ".xr-attrs dt {\n",
       "  font-weight: normal;\n",
       "  grid-column: 1;\n",
       "}\n",
       "\n",
       ".xr-attrs dt:hover span {\n",
       "  display: inline-block;\n",
       "  background: var(--xr-background-color);\n",
       "  padding-right: 10px;\n",
       "}\n",
       "\n",
       ".xr-attrs dd {\n",
       "  grid-column: 2;\n",
       "  white-space: pre-wrap;\n",
       "  word-break: break-all;\n",
       "}\n",
       "\n",
       ".xr-icon-database,\n",
       ".xr-icon-file-text2,\n",
       ".xr-no-icon {\n",
       "  display: inline-block;\n",
       "  vertical-align: middle;\n",
       "  width: 1em;\n",
       "  height: 1.5em !important;\n",
       "  stroke-width: 0;\n",
       "  stroke: currentColor;\n",
       "  fill: currentColor;\n",
       "}\n",
       "</style><pre class='xr-text-repr-fallback'>&lt;xarray.DataArray &#x27;wind_speed&#x27; (latitude: 3, longitude: 2)&gt;\n",
       "array([[5, 6],\n",
       "       [3, 9],\n",
       "       [7, 7]])\n",
       "Coordinates:\n",
       "  * latitude   (latitude) float64 78.54 79.14 80.71\n",
       "  * longitude  (longitude) float64 30.01 28.73</pre><div class='xr-wrap' style='display:none'><div class='xr-header'><div class='xr-obj-type'>xarray.DataArray</div><div class='xr-array-name'>'wind_speed'</div><ul class='xr-dim-list'><li><span class='xr-has-index'>latitude</span>: 3</li><li><span class='xr-has-index'>longitude</span>: 2</li></ul></div><ul class='xr-sections'><li class='xr-section-item'><div class='xr-array-wrap'><input id='section-64620cfa-bdc9-446b-a48a-c5bd5ee880c4' class='xr-array-in' type='checkbox' checked><label for='section-64620cfa-bdc9-446b-a48a-c5bd5ee880c4' title='Show/hide data repr'><svg class='icon xr-icon-database'><use xlink:href='#icon-database'></use></svg></label><div class='xr-array-preview xr-preview'><span>5 6 3 9 7 7</span></div><div class='xr-array-data'><pre>array([[5, 6],\n",
       "       [3, 9],\n",
       "       [7, 7]])</pre></div></div></li><li class='xr-section-item'><input id='section-72e9ba48-949d-4381-84e3-3909a4567ee3' class='xr-section-summary-in' type='checkbox'  checked><label for='section-72e9ba48-949d-4381-84e3-3909a4567ee3' class='xr-section-summary' >Coordinates: <span>(2)</span></label><div class='xr-section-inline-details'></div><div class='xr-section-details'><ul class='xr-var-list'><li class='xr-var-item'><div class='xr-var-name'><span class='xr-has-index'>latitude</span></div><div class='xr-var-dims'>(latitude)</div><div class='xr-var-dtype'>float64</div><div class='xr-var-preview xr-preview'>78.54 79.14 80.71</div><input id='attrs-92910ddb-f90f-4b01-a67f-a2862550ba99' class='xr-var-attrs-in' type='checkbox' disabled><label for='attrs-92910ddb-f90f-4b01-a67f-a2862550ba99' title='Show/Hide attributes'><svg class='icon xr-icon-file-text2'><use xlink:href='#icon-file-text2'></use></svg></label><input id='data-3206da18-837a-4f92-bf93-2bbef3fd11e7' class='xr-var-data-in' type='checkbox'><label for='data-3206da18-837a-4f92-bf93-2bbef3fd11e7' title='Show/Hide data repr'><svg class='icon xr-icon-database'><use xlink:href='#icon-database'></use></svg></label><div class='xr-var-attrs'><dl class='xr-attrs'></dl></div><div class='xr-var-data'><pre>array([78.5425, 79.1423, 80.7139])</pre></div></li><li class='xr-var-item'><div class='xr-var-name'><span class='xr-has-index'>longitude</span></div><div class='xr-var-dims'>(longitude)</div><div class='xr-var-dtype'>float64</div><div class='xr-var-preview xr-preview'>30.01 28.73</div><input id='attrs-7f592a49-e95c-4b83-b35a-eeec89b39d37' class='xr-var-attrs-in' type='checkbox' disabled><label for='attrs-7f592a49-e95c-4b83-b35a-eeec89b39d37' title='Show/Hide attributes'><svg class='icon xr-icon-file-text2'><use xlink:href='#icon-file-text2'></use></svg></label><input id='data-d77e4e8a-5cd4-4776-a0f8-e56436246657' class='xr-var-data-in' type='checkbox'><label for='data-d77e4e8a-5cd4-4776-a0f8-e56436246657' title='Show/Hide data repr'><svg class='icon xr-icon-database'><use xlink:href='#icon-database'></use></svg></label><div class='xr-var-attrs'><dl class='xr-attrs'></dl></div><div class='xr-var-data'><pre>array([30.0131, 28.7269])</pre></div></li></ul></div></li><li class='xr-section-item'><input id='section-5f0bae7f-ab75-43c0-ba3f-823e5ead99db' class='xr-section-summary-in' type='checkbox'  ><label for='section-5f0bae7f-ab75-43c0-ba3f-823e5ead99db' class='xr-section-summary' >Indexes: <span>(2)</span></label><div class='xr-section-inline-details'></div><div class='xr-section-details'><ul class='xr-var-list'><li class='xr-var-item'><div class='xr-index-name'><div>latitude</div></div><div class='xr-index-preview'>PandasIndex</div><div></div><input id='index-cd35e6ea-fe52-433b-a95c-891a39b091f1' class='xr-index-data-in' type='checkbox'/><label for='index-cd35e6ea-fe52-433b-a95c-891a39b091f1' title='Show/Hide index repr'><svg class='icon xr-icon-database'><use xlink:href='#icon-database'></use></svg></label><div class='xr-index-data'><pre>PandasIndex(Float64Index([78.5425, 79.1423, 80.7139], dtype=&#x27;float64&#x27;, name=&#x27;latitude&#x27;))</pre></div></li><li class='xr-var-item'><div class='xr-index-name'><div>longitude</div></div><div class='xr-index-preview'>PandasIndex</div><div></div><input id='index-d04be74d-48bc-4485-8faf-0bae0ad4d39b' class='xr-index-data-in' type='checkbox'/><label for='index-d04be74d-48bc-4485-8faf-0bae0ad4d39b' title='Show/Hide index repr'><svg class='icon xr-icon-database'><use xlink:href='#icon-database'></use></svg></label><div class='xr-index-data'><pre>PandasIndex(Float64Index([30.0131, 28.7269], dtype=&#x27;float64&#x27;, name=&#x27;longitude&#x27;))</pre></div></li></ul></div></li><li class='xr-section-item'><input id='section-e4b1c519-d154-4035-9e1d-7440f679f97b' class='xr-section-summary-in' type='checkbox' disabled ><label for='section-e4b1c519-d154-4035-9e1d-7440f679f97b' class='xr-section-summary'  title='Expand/collapse section'>Attributes: <span>(0)</span></label><div class='xr-section-inline-details'></div><div class='xr-section-details'><dl class='xr-attrs'></dl></div></li></ul></div></div>"
      ],
      "text/plain": [
       "<xarray.DataArray 'wind_speed' (latitude: 3, longitude: 2)>\n",
       "array([[5, 6],\n",
       "       [3, 9],\n",
       "       [7, 7]])\n",
       "Coordinates:\n",
       "  * latitude   (latitude) float64 78.54 79.14 80.71\n",
       "  * longitude  (longitude) float64 30.01 28.73"
      ]
     },
     "execution_count": 12,
     "metadata": {},
     "output_type": "execute_result"
    }
   ],
   "source": [
    "xrds['wind_speed']"
   ]
  },
  {
   "cell_type": "markdown",
   "id": "0222b159",
   "metadata": {},
   "source": [
    "This is another major advantage of NetCDF files over tabular data formats like CSV or XLSX, which are limited in their ability to store multi-dimensional data. This multidimensional array can be used by code and software as it is without having to do any pre-processing. For example, let's plot our data"
   ]
  },
  {
   "cell_type": "code",
   "execution_count": 13,
   "id": "84480e59",
   "metadata": {},
   "outputs": [
    {
     "data": {
      "text/plain": [
       "<matplotlib.image.AxesImage at 0x7fc2f348e6d0>"
      ]
     },
     "execution_count": 13,
     "metadata": {},
     "output_type": "execute_result"
    },
    {
     "data": {
      "image/png": "[encoded data removed]",
      "text/plain": [
       "<Figure size 640x480 with 2 Axes>"
      ]
     },
     "metadata": {},
     "output_type": "display_data"
    }
   ],
   "source": [
    "xrds['wind_speed'].plot.imshow(x='longitude', y='latitude')"
   ]
  },
  {
   "cell_type": "markdown",
   "id": "be0b03ea",
   "metadata": {},
   "source": [
    "### Example of 3D data"
   ]
  },
  {
   "cell_type": "code",
   "execution_count": 14,
   "id": "56ba3981",
   "metadata": {},
   "outputs": [
    {
     "name": "stdout",
     "output_type": "stream",
     "text": [
      "<xarray.Dataset>\n",
      "Dimensions:        (depth: 5, latitude: 3, longitude: 2)\n",
      "Coordinates:\n",
      "  * depth          (depth) int64 0 10 20 50 100\n",
      "  * latitude       (latitude) float64 78.54 79.14 80.71\n",
      "  * longitude      (longitude) float64 30.01 28.73\n",
      "Data variables:\n",
      "    chlorophyll_a  (depth) float64 21.5 18.5 17.6 16.8 15.2\n",
      "    wind_speed     (latitude, longitude) int64 5 6 3 9 7 7\n",
      "    temperature    (latitude, longitude, depth) int64 24 24 26 21 ... 29 27 22\n"
     ]
    }
   ],
   "source": [
    "temperature = np.random.randint(20,30, size=(3,2,5))\n",
    "\n",
    "xrds['temperature'] = ([\"latitude\", \"longitude\", \"depth\"], temperature)\n",
    "print(xrds)"
   ]
  },
  {
   "cell_type": "markdown",
   "id": "d0779a00",
   "metadata": {},
   "source": [
    "### 3D data from pandas dataframe to 3D grid\n",
    "\n",
    "So how exactly do you do this? I'll create a dummy dataframe first"
   ]
  },
  {
   "cell_type": "code",
   "execution_count": 15,
   "id": "d22ac157",
   "metadata": {},
   "outputs": [
    {
     "name": "stdout",
     "output_type": "stream",
     "text": [
      "    Depth  Latitude  Longitude   Salinity\n",
      "0       0   78.5425    30.0131  32.756868\n",
      "1       0   78.5425    28.7269  31.545530\n",
      "2       0   79.1423    30.0131  32.246557\n",
      "3       0   79.1423    28.7269  32.815308\n",
      "4       0   80.7139    30.0131  33.381945\n",
      "5       0   80.7139    28.7269  30.664838\n",
      "6      10   78.5425    30.0131  33.293458\n",
      "7      10   78.5425    28.7269  30.872393\n",
      "8      10   79.1423    30.0131  30.279105\n",
      "9      10   79.1423    28.7269  33.200635\n",
      "10     10   80.7139    30.0131  30.100075\n",
      "11     10   80.7139    28.7269  34.278651\n",
      "12     20   78.5425    30.0131  34.325547\n",
      "13     20   78.5425    28.7269  30.423981\n",
      "14     20   79.1423    30.0131  32.706755\n",
      "15     20   79.1423    28.7269  34.166764\n",
      "16     20   80.7139    30.0131  31.255526\n",
      "17     20   80.7139    28.7269  34.419087\n",
      "18     50   78.5425    30.0131  34.886908\n",
      "19     50   78.5425    28.7269  34.730535\n",
      "20     50   79.1423    30.0131  34.972760\n",
      "21     50   79.1423    28.7269  32.360857\n",
      "22     50   80.7139    30.0131  33.201443\n",
      "23     50   80.7139    28.7269  33.302117\n",
      "24    100   78.5425    30.0131  30.287109\n",
      "25    100   78.5425    28.7269  32.164010\n",
      "26    100   79.1423    30.0131  34.282545\n",
      "27    100   79.1423    28.7269  34.932066\n",
      "28    100   80.7139    30.0131  31.792970\n",
      "29    100   80.7139    28.7269  32.544792\n"
     ]
    }
   ],
   "source": [
    "# Create lists to store the coordinates and salinity values\n",
    "depth_coordinates = []\n",
    "latitude_coordinates = []\n",
    "longitude_coordinates = []\n",
    "salinity_values = []\n",
    "\n",
    "# Generate the coordinates and salinity values for the grid\n",
    "for d in depth:\n",
    "    for lat in latitude:\n",
    "        for lon in longitude:\n",
    "            depth_coordinates.append(d)\n",
    "            latitude_coordinates.append(lat)\n",
    "            longitude_coordinates.append(lon)\n",
    "            salinity = np.random.uniform(30, 35)  # Random salinity value between 30 and 35\n",
    "            salinity_values.append(salinity)\n",
    "\n",
    "# Create a DataFrame\n",
    "data = {\n",
    "    'Depth': depth_coordinates,\n",
    "    'Latitude': latitude_coordinates,\n",
    "    'Longitude': longitude_coordinates,\n",
    "    'Salinity': salinity_values\n",
    "}\n",
    "\n",
    "df = pd.DataFrame(data)\n",
    "print(df)"
   ]
  },
  {
   "cell_type": "markdown",
   "id": "d4aa381b",
   "metadata": {},
   "source": [
    "Now, let's create a multidimensional grid for our salinity variable. We need to be a bit careful with the order here. The dataframe is sorted first by depth (5 depths), then by latitude (3 latitudes), then by longitude (2 longitudes). We should mirror that order."
   ]
  },
  {
   "cell_type": "code",
   "execution_count": 16,
   "id": "326cd6d1",
   "metadata": {},
   "outputs": [
    {
     "name": "stdout",
     "output_type": "stream",
     "text": [
      "[[[32.75686779 31.54553007]\n",
      "  [32.24655721 32.81530812]\n",
      "  [33.38194457 30.66483827]]\n",
      "\n",
      " [[33.2934576  30.87239296]\n",
      "  [30.27910527 33.20063513]\n",
      "  [30.10007468 34.27865145]]\n",
      "\n",
      " [[34.32554719 30.42398148]\n",
      "  [32.70675545 34.16676412]\n",
      "  [31.25552553 34.41908727]]\n",
      "\n",
      " [[34.88690849 34.73053468]\n",
      "  [34.97276005 32.36085725]\n",
      "  [33.20144337 33.30211669]]\n",
      "\n",
      " [[30.2871091  32.16401021]\n",
      "  [34.28254452 34.93206581]\n",
      "  [31.79297002 32.54479171]]]\n"
     ]
    }
   ],
   "source": [
    "salinity_3d_array = np.array(df['Salinity']).reshape(5,3,2)\n",
    "print(salinity_3d_array)"
   ]
  },
  {
   "cell_type": "code",
   "execution_count": 17,
   "id": "7a03dd71",
   "metadata": {},
   "outputs": [
    {
     "name": "stdout",
     "output_type": "stream",
     "text": [
      "<xarray.Dataset>\n",
      "Dimensions:        (depth: 5, latitude: 3, longitude: 2)\n",
      "Coordinates:\n",
      "  * depth          (depth) int64 0 10 20 50 100\n",
      "  * latitude       (latitude) float64 78.54 79.14 80.71\n",
      "  * longitude      (longitude) float64 30.01 28.73\n",
      "Data variables:\n",
      "    chlorophyll_a  (depth) float64 21.5 18.5 17.6 16.8 15.2\n",
      "    wind_speed     (latitude, longitude) int64 5 6 3 9 7 7\n",
      "    temperature    (latitude, longitude, depth) int64 24 24 26 21 ... 29 27 22\n",
      "    salinity       (depth, latitude, longitude) float64 32.76 31.55 ... 32.54\n"
     ]
    }
   ],
   "source": [
    "xrds['salinity'] = ([\"depth\", \"latitude\", \"longitude\"], salinity_3d_array) \n",
    "# Careful again with the order of your dimensions - it will fail if you get it wrong\n",
    "print(xrds)"
   ]
  },
  {
   "cell_type": "markdown",
   "id": "dbca32c6",
   "metadata": {},
   "source": [
    "# Variable attributes"
   ]
  },
  {
   "cell_type": "markdown",
   "id": "38edbeeb",
   "metadata": {},
   "source": [
    "Hurrah! Your data are in the xarray dataset object. But are you ready to export a NetCDF file? Will that file be compliant with the FAIR principles? No! We need metadata.\n",
    "\n",
    "Variable attributes are metadata that describe the variables.\n",
    "\n",
    "The Climate & Forecast (CF) conventions dictate which variable attributes should be included for different data. \n",
    "\n",
    "https://cfconventions.org/\n",
    "\n",
    "For example for latitude:\n",
    "https://cfconventions.org/Data/cf-conventions/cf-conventions-1.10/cf-conventions.html#latitude-coordinate\n",
    "\n",
    "Let's replicate that setup.\n",
    "\n",
    "These attributes are well documented on the ACDD convention host page, here: https://wiki.esipfed.org/Attribute_Convention_for_Data_Discovery_1-3#Highly_Recommended_Variable_Attributes\n",
    "\n"
   ]
  },
  {
   "cell_type": "code",
   "execution_count": 18,
   "id": "c5fb71d5",
   "metadata": {},
   "outputs": [
    {
     "name": "stdout",
     "output_type": "stream",
     "text": [
      "<xarray.DataArray 'latitude' (latitude: 3)>\n",
      "array([78.5425, 79.1423, 80.7139])\n",
      "Coordinates:\n",
      "  * latitude  (latitude) float64 78.54 79.14 80.71\n",
      "Attributes:\n",
      "    standard_name:          latitude\n",
      "    long_name:              latitude\n",
      "    units:                  degrees_north\n",
      "    coverage_content_type:  coordinate\n"
     ]
    }
   ],
   "source": [
    "xrds['latitude'].attrs['standard_name'] = 'latitude' # One at a time\n",
    "\n",
    "# Or all at once. Variable attributes can be written from a python dictionary\n",
    "xrds['latitude'].attrs = {\n",
    "    'standard_name': 'latitude',\n",
    "    'long_name': 'latitude',\n",
    "    'units': 'degrees_north',\n",
    "    'coverage_content_type': 'coordinate'\n",
    "}\n",
    "\n",
    "print(xrds['latitude'])"
   ]
  },
  {
   "cell_type": "code",
   "execution_count": 19,
   "id": "0f75eb79",
   "metadata": {},
   "outputs": [],
   "source": [
    "xrds['longitude'].attrs = {\n",
    "    'standard_name': 'longitude',\n",
    "    'long_name': 'longitude',\n",
    "    'units': 'degrees_east',\n",
    "    'coverage_content_type': 'coordinate'\n",
    "}\n",
    "xrds['depth'].attrs = {\n",
    "    'standard_name': 'depth',\n",
    "    'long_name': 'depth below sea level',\n",
    "    'units': 'meters',\n",
    "    'coverage_content_type': 'coordinate',\n",
    "    'positive': 'down'\n",
    "}\n",
    "xrds['chlorophyll_a'].attrs = {\n",
    "    'standard_name': 'mass_concentration_of_chlorophyll_a_in_sea_water',\n",
    "    'long_name': 'a description about each variable in your own words',\n",
    "    'units': 'μg m-3',\n",
    "    'coverage_content_type': 'physicalMeasurement',\n",
    "}\n",
    "# And so on for each variable.."
   ]
  },
  {
   "cell_type": "markdown",
   "id": "85852230",
   "metadata": {},
   "source": [
    "# Global attributes"
   ]
  },
  {
   "cell_type": "markdown",
   "id": "a414e2d9",
   "metadata": {},
   "source": [
    "The CF conventions are light on discovery metadata. Discovery metadata are metadata that can be used to find data. For example, when and where the data were collected and by whom, some keywords etc. So we also use the ACDD convention - The Attribute Convention for Data Discovery.\n",
    "https://wiki.esipfed.org/Attribute_Convention_for_Data_Discovery_1-3\n",
    "\n",
    "This is a list of recommendations. SIOS advises that people follow the requirements of the Arctic Data Centre, here. Requirements are a more effective way to encourage consistency than recommendations. These requirements are compliant with the ACDD conventions:\n",
    "https://adc.met.no/node/4\n",
    "\n",
    "Go through and add each required attribute and any others you wish to. You are also welcome to add any custom attributes on top of these requirements. Similarly to variable attributes, this can either be done one by one or all in one in a dictionary. "
   ]
  },
  {
   "cell_type": "code",
   "execution_count": 20,
   "id": "e8ab76b7",
   "metadata": {},
   "outputs": [],
   "source": [
    "xrds.attrs['title'] = 'my title'\n",
    "xrds.attrs = {\n",
    "    'creator_name': 'John Smith; Ola Nordmann', # Who collected and processed the data up to this point\n",
    "    'creator_email': 'johns@unis.no; olan@met.no',\n",
    "    'creator_institution': 'The University Centre in Svalbard (UNIS); Norwegian Meteorological Institute (NPI)',\n",
    "    'publisher_name': '', # The name of the data centre you will publish your data with\n",
    "    'license': 'https://creativecommons.org/licenses/by/4.0/'\n",
    "    # And so on\n",
    "}"
   ]
  },
  {
   "cell_type": "markdown",
   "id": "3d9fd5f0",
   "metadata": {},
   "source": [
    "And maybe we want to add some attributes based on information we have already provided"
   ]
  },
  {
   "cell_type": "code",
   "execution_count": 21,
   "id": "7b66deba",
   "metadata": {},
   "outputs": [
    {
     "name": "stdout",
     "output_type": "stream",
     "text": [
      "{'creator_name': 'John Smith; Ola Nordmann', 'creator_email': 'johns@unis.no; olan@met.no', 'creator_institution': 'The University Centre in Svalbard (UNIS); Norwegian Meteorological Institute (NPI)', 'publisher_name': '', 'license': 'https://creativecommons.org/licenses/by/4.0/', 'geospatial_lat_min': 80.7139, 'date_created': '2023-10-17T12:48:03Z', 'history': 'File created at 2023-10-17T12:48:03Z using xarray in Python by John Smith'}\n"
     ]
    }
   ],
   "source": [
    "xrds.attrs['geospatial_lat_min'] = min(xrds['latitude'].values)\n",
    "xrds.attrs['geospatial_lat_min'] = max(xrds['latitude'].values)\n",
    "\n",
    "dtnow = dt.utcnow().strftime(\"%Y-%m-%dT%H:%M:%SZ\")\n",
    "xrds.attrs['date_created'] = dtnow\n",
    "xrds.attrs['history'] = f'File created at {dtnow} using xarray in Python by John Smith'\n",
    "print(xrds.attrs)"
   ]
  },
  {
   "cell_type": "markdown",
   "id": "f1ecb68b",
   "metadata": {},
   "source": [
    "# Exporting your xarray object to a NetCDF file"
   ]
  },
  {
   "cell_type": "code",
   "execution_count": 22,
   "id": "7081b03d",
   "metadata": {},
   "outputs": [
    {
     "data": {
      "text/plain": [
       "'\\nThe fill value will be used to fill in any missing values.\\nIt should be an unrealistic value that will obviously show up\\nas a spike in the data when plotted. The _FillValue is a special\\nvariable attribute that some softwares can understand, so when\\none opens the data, the fill values are replaced by NaNs again.\\n'"
      ]
     },
     "execution_count": 22,
     "metadata": {},
     "output_type": "execute_result"
    }
   ],
   "source": [
    "# Specifiy encoding\n",
    "myencoding = {\n",
    "    'depth': {\n",
    "        'dtype': 'int32',\n",
    "        '_FillValue': None # Coordinate variables should not have fill values.\n",
    "        },\n",
    "    'latitude': {\n",
    "        'dtype': 'float32',\n",
    "        '_FillValue': None # Coordinate variables should not have fill values.\n",
    "        },\n",
    "    'longitude': {\n",
    "        'dtype': 'float32',\n",
    "        '_FillValue': None # Coordinate variables should not have fill values.\n",
    "        },\n",
    "    'chlorophyll_a': {\n",
    "        'dtype': 'float32',\n",
    "        '_FillValue': 1e30,\n",
    "        'zlib': False\n",
    "        }, \n",
    "    'wind_speed': {\n",
    "        'dtype': 'int32',\n",
    "        '_FillValue': 1e7,\n",
    "        'zlib': False\n",
    "        }\n",
    "    }\n",
    "\n",
    "'''\n",
    "The fill value will be used to fill in any missing values.\n",
    "It should be an unrealistic value that will obviously show up\n",
    "as a spike in the data when plotted. The _FillValue is a special\n",
    "variable attribute that some softwares can understand, so when\n",
    "one opens the data, the fill values are replaced by NaNs again.\n",
    "'''\n",
    "# xrds.to_netcdf('/path/to/file.nc',encoding=myencoding)"
   ]
  },
  {
   "cell_type": "markdown",
   "id": "aab75f19",
   "metadata": {},
   "source": [
    "# Checking your data\n",
    "\n",
    "Make sure you thoroughly check your file and it ideally should be run past all co-authors, just like when publishing a paper.\n",
    "\n",
    "There are also validators you can run your files by to make sure that you file is compliant with the ACDD and CF conventions before you publish it. For example: https://compliance.ioos.us/index.html"
   ]
  }
 ],
 "metadata": {
  "kernelspec": {
   "display_name": "Python 3 (ipykernel)",
   "language": "python",
   "name": "python3"
  },
  "language_info": {
   "codemirror_mode": {
    "name": "ipython",
    "version": 3
   },
   "file_extension": ".py",
   "mimetype": "text/x-python",
   "name": "python",
   "nbconvert_exporter": "python",
   "pygments_lexer": "ipython3",
   "version": "3.11.4"
  }
 },
 "nbformat": 4,
 "nbformat_minor": 5
}
